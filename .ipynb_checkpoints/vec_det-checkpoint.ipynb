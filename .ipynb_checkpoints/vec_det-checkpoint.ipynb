{
 "cells": [
  {
   "cell_type": "markdown",
   "metadata": {},
   "source": [
    "I use the dataset from Udacity,  I visible the dataset first"
   ]
  },
  {
   "cell_type": "code",
   "execution_count": 1,
   "metadata": {
    "collapsed": false
   },
   "outputs": [
    {
     "data": {
      "image/png": "[encoded data removed]",
      "text/plain": [
       "<matplotlib.figure.Figure at 0x10e799550>"
      ]
     },
     "metadata": {},
     "output_type": "display_data"
    }
   ],
   "source": [
    "import pandas as pd\n",
    "import matplotlib.pyplot as plt\n",
    "import matplotlib\n",
    "import csv\n",
    "import numpy as np\n",
    "%matplotlib inline\n",
    "\n",
    "class LabelNum(dict):\n",
    "\tdef __missing__(self, key):\n",
    "\t\treturn 0\n",
    "    \n",
    "def visible_data():\n",
    "    label_num = LabelNum()\n",
    "    with open('object-detection-crowdai/labels.csv') as csvfile:\n",
    "        spamreader = csv.reader(csvfile)\n",
    "        for row in spamreader:\n",
    "            key = 2\n",
    "            if row[5] == 'Car':\n",
    "                key=0\n",
    "            elif row[5] == 'Truck':\n",
    "                key=1\n",
    "            label_num[key] = label_num[key]+1\n",
    "\n",
    "    labels=[]\n",
    "    labels_num=[]\n",
    "\n",
    "    for (label, num) in label_num.items():\n",
    "        labels.append(label)\n",
    "        labels_num.append(num)\n",
    "\n",
    "    x_label = np.array([0, 1, 2])\n",
    "    y_label = np.arange(0,100000,3000)\n",
    "    plt.xticks(x_label,x_label,ha='right',rotation=45)\n",
    "    plt.yticks(y_label,y_label)\n",
    "    plt.bar(labels,labels_num)\n",
    "    plt.show()\n",
    "\n",
    "visible_data()    "
   ]
  },
  {
   "cell_type": "markdown",
   "metadata": {},
   "source": [
    "It seems that the dataset have too much **Car**:60000, but Truck is about 6000, so I use only 1/10 of the car data to make a good distrubition.  \n",
    "The other problem I found later is that there are too many duplicate image, so I only use 20% of the image data set"
   ]
  },
  {
   "cell_type": "code",
   "execution_count": 42,
   "metadata": {
    "collapsed": false
   },
   "outputs": [
    {
     "name": "stdout",
     "output_type": "stream",
     "text": [
      "1845 1126\n"
     ]
    }
   ],
   "source": [
    "import random\n",
    "# read data and store data in an array\n",
    "def build_data(file_name):\n",
    "    car_set=[]\n",
    "    not_car_set=[]\n",
    "    with open(file_name) as csvfile:\n",
    "        spamreader = csv.reader(csvfile)\n",
    "        for row in spamreader:\n",
    "            if row[5] == 'Car':\n",
    "                if random.random()<0.016:\n",
    "                    car_set.append(row)\n",
    "            elif row[5] == 'Truck':\n",
    "                if random.random()<0.2:\n",
    "                    car_set.append(row)\n",
    "            elif row[5] == 'Pedestrian':\n",
    "                if random.random()<0.2:                    \n",
    "                    not_car_set.append(row)\n",
    "    return car_set, not_car_set\n",
    "\n",
    "car_set, not_car_set= build_data('object-detection-crowdai/labels.csv')\n",
    "print(len(car_set),len(not_car_set))\n"
   ]
  },
  {
   "cell_type": "markdown",
   "metadata": {},
   "source": [
    "Now I have the car_set and not_car_set, one is 1845, the other is 1126, that is ok.  \n",
    "Next I will build the training set and labels set.   \n",
    "there are 3 function , one is bin_spatial, the second is color hist, the third is get_hog_features, which will be trid in feature extra"
   ]
  },
  {
   "cell_type": "code",
   "execution_count": 43,
   "metadata": {
    "collapsed": false
   },
   "outputs": [
    {
     "name": "stdout",
     "output_type": "stream",
     "text": [
      "def func\n"
     ]
    }
   ],
   "source": [
    "from skimage.feature import hog\n",
    "\n",
    "# Define a function to compute binned color features  \n",
    "def bin_spatial(img, size=(32, 32)):\n",
    "    # Use cv2.resize().ravel() to create the feature vector\n",
    "    features = cv2.resize(img, size).ravel() \n",
    "    # Return the feature vector    \n",
    "    return features\n",
    "\n",
    "# Define a function to compute color histogram features  \n",
    "def color_hist(img, nbins=32, bins_range=(0, 256)):\n",
    "    # Compute the histogram of the color channels separately\n",
    "    channel1_hist = np.histogram(img[:,:,0], bins=nbins, range=bins_range)\n",
    "    channel2_hist = np.histogram(img[:,:,1], bins=nbins, range=bins_range)\n",
    "    channel3_hist = np.histogram(img[:,:,2], bins=nbins, range=bins_range)\n",
    "    # Concatenate the histograms into a single feature vector\n",
    "    hist_features = np.concatenate((channel1_hist[0], channel2_hist[0], channel3_hist[0]))\n",
    "    # Return the individual histograms, bin_centers and feature vector\n",
    "    return hist_features\n",
    "\n",
    "# Define a function to return HOG features and visualization\n",
    "def get_hog_features(img, orient=9, pix_per_cell=8, cell_per_block=2, \n",
    "                        vis=False, feature_vec=True):\n",
    "    # Call with two outputs if vis==True\n",
    "    if vis == True:\n",
    "        features, hog_image = hog(img, orientations=orient, pixels_per_cell=(pix_per_cell, pix_per_cell),\n",
    "                                  cells_per_block=(cell_per_block, cell_per_block), transform_sqrt=True, \n",
    "                                  visualise=vis, feature_vector=feature_vec)\n",
    "        return features, hog_image\n",
    "    # Otherwise call with one output\n",
    "    else:      \n",
    "        features = hog(img, orientations=orient, pixels_per_cell=(pix_per_cell, pix_per_cell),\n",
    "                       cells_per_block=(cell_per_block, cell_per_block), transform_sqrt=True, \n",
    "                       visualise=vis, feature_vector=feature_vec)\n",
    "        return features\n",
    "    \n",
    "print('def func')"
   ]
  },
  {
   "cell_type": "markdown",
   "metadata": {},
   "source": [
    "Feature_extra, which combine the three above together"
   ]
  },
  {
   "cell_type": "code",
   "execution_count": 47,
   "metadata": {
    "collapsed": false
   },
   "outputs": [
    {
     "name": "stdout",
     "output_type": "stream",
     "text": [
      "extra_function\n"
     ]
    }
   ],
   "source": [
    "# Have this function call bin_spatial() and color_hist()\n",
    "def extract_features(rows, orient=9, \n",
    "                        pix_per_cell=8, cell_per_block=2, hog_channel=0):\n",
    "    # Create a list to append feature vectors to\n",
    "    features = []\n",
    "    i=0\n",
    "    # Iterate through the list of images\n",
    "    for row in rows:\n",
    "        # Read in each one by one,then crop the image to the car\n",
    "        #image = Image.open('object-detection-crowdai/'+row[4])\n",
    "        #image1 = image.crop((int(row[0]),int(row[1]),int(row[2]),int(row[3])))\n",
    "        #feature_image = np.array(image1)\n",
    "\n",
    "        image = cv2.imread('object-detection-crowdai/'+row[4])\n",
    "        feature_image= None\n",
    "        if row[3]==row[1] or row[0] ==row[2]:\n",
    "            continue\n",
    "        elif int(row[3]) > int(row[1]):\n",
    "            feature_image = image[int(row[1]):int(row[3]),int(row[0]):int(row[2])]\n",
    "        elif int(row[3]) < int(row[1]):\n",
    "            feature_image = image[int(row[3]):int(row[1]),int(row[2]):int(row[0])]\n",
    "        \n",
    "        feature_image = cv2.resize(feature_image, (64, 64)) \n",
    "        bin_features = bin_spatial(feature_image)\n",
    "        color_features = color_hist(feature_image)\n",
    "        \n",
    "        \n",
    "        # Call get_hog_features() with vis=False, feature_vec=True\n",
    "        \n",
    "        hog_features = []\n",
    "        if hog_channel == 'ALL':            \n",
    "            for channel in range(feature_image.shape[2]):\n",
    "                hog_features.append(get_hog_features(feature_image[:,:,channel], \n",
    "                                    orient, pix_per_cell, cell_per_block, \n",
    "                                    vis=False, feature_vec=True))\n",
    "            hog_features = np.ravel(hog_features)        \n",
    "        else:\n",
    "            hog_features = get_hog_features(feature_image[:,:,hog_channel], orient, \n",
    "                        pix_per_cell, cell_per_block, vis=False, feature_vec=True)\n",
    "        # Append the new feature vector to the features list                                    \n",
    "        features.append(np.concatenate((bin_features,color_features,hog_features)))        \n",
    "\n",
    "    # Return list of feature vectors\n",
    "    return features\n",
    "\n",
    "print('extra_function')\n"
   ]
  },
  {
   "cell_type": "markdown",
   "metadata": {},
   "source": [
    "we use extract_features build our train_set"
   ]
  },
  {
   "cell_type": "code",
   "execution_count": 54,
   "metadata": {
    "collapsed": false
   },
   "outputs": [
    {
     "name": "stdout",
     "output_type": "stream",
     "text": [
      "extra_features begin...\n",
      "extra_features end...\n",
      "y (2971,)\n",
      "Tuned model has a testing accuracy_score score of 0.9497.\n"
     ]
    }
   ],
   "source": [
    "from sklearn.svm import LinearSVC\n",
    "from sklearn.model_selection import train_test_split\n",
    "from sklearn.utils import shuffle\n",
    "from sklearn.metrics import f1_score, make_scorer\n",
    "from sklearn.model_selection import GridSearchCV\n",
    "from sklearn.preprocessing import StandardScaler\n",
    "from sklearn import svm \n",
    "from sklearn.metrics import accuracy_score\n",
    "\n",
    "print('extra_features begin...')\n",
    "car_features = extract_features(car_set, hog_channel='ALL')\n",
    "not_car_features= extract_features(not_car_set, hog_channel='ALL')\n",
    "print('extra_features end...')\n",
    "\n",
    "def train_clf(car_features,not_car_features):\n",
    "    if len(car_features) > 0:\n",
    "        # Create an array stack of feature vectors\n",
    "        X = np.vstack((car_features, not_car_features)).astype(np.float64)\n",
    "        \n",
    "        X_scaler = StandardScaler().fit(X)\n",
    "        # Apply the scaler to X\n",
    "        scaled_X = X_scaler.transform(X)\n",
    "\n",
    "        y = np.hstack((np.ones(len(car_features)), np.zeros(len(not_car_features))))\n",
    "        print('y',y.shape)\n",
    "\n",
    "        scaled_X, y = shuffle(scaled_X, y)\n",
    "                                \n",
    "        # Split to train and test\n",
    "        rand_state = np.random.randint(0, 100)\n",
    "        X_train, X_test, y_train, y_test = train_test_split(\n",
    "            scaled_X, y, test_size=0.1, random_state=rand_state)\n",
    "        \n",
    "        parameters = {'kernel':('linear','rbf'), 'C':[0.1,1,5, 10]}\n",
    "\n",
    "        # TODO：initial classifier\n",
    "        clf = svm.SVC()\n",
    "        # Train the SVC\n",
    "        #my_scorer = make_scorer(accuracy_score)\n",
    "        grid_obj = GridSearchCV(clf,parameters)\n",
    "\n",
    "        # TODO: Fit the grid search object to the training data and find the optimal parameters\n",
    "        grid_obj = grid_obj.fit(X_train,y_train)\n",
    "\n",
    "        # Get the estimator\n",
    "        clf = grid_obj.best_estimator_    \n",
    "        y_pred = clf.predict(X_test)\n",
    "        print(\"Tuned model has a testing accuracy_score score of {:.4f}.\".format(accuracy_score(y_test, y_pred)))\n",
    "        return clf,X_scaler\n",
    "\n",
    "clf,X_scaler = train_clf(car_features,not_car_features)   "
   ]
  },
  {
   "cell_type": "code",
   "execution_count": 64,
   "metadata": {
    "collapsed": false
   },
   "outputs": [
    {
     "name": "stdout",
     "output_type": "stream",
     "text": [
      "0.995\n"
     ]
    }
   ],
   "source": [
    "def predict_y(X_scale,clf,not_car_set):\n",
    "    valid_features= extract_features(not_car_set[900:1100], hog_channel='ALL')\n",
    "    V = np.array(valid_features).astype(np.float64)\n",
    "    # Apply the scaler to X\n",
    "    scaled_V = X_scaler.transform(V)\n",
    "    y = np.zeros(200)\n",
    "    y_ped = clf.predict(scaled_V)\n",
    "    print(accuracy_score(y_ped,y))\n",
    "\n",
    "predict_y(X_scaler, clf,not_car_set)    "
   ]
  },
  {
   "cell_type": "markdown",
   "metadata": {},
   "source": [
    "Search and classfiy"
   ]
  },
  {
   "cell_type": "code",
   "execution_count": 77,
   "metadata": {
    "collapsed": false
   },
   "outputs": [
    {
     "ename": "NameError",
     "evalue": "name 'test_features' is not defined",
     "output_type": "error",
     "traceback": [
      "\u001b[0;31m---------------------------------------------------------------------------\u001b[0m",
      "\u001b[0;31mNameError\u001b[0m                                 Traceback (most recent call last)",
      "\u001b[0;32m<ipython-input-77-2793cf7126da>\u001b[0m in \u001b[0;36m<module>\u001b[0;34m()\u001b[0m\n\u001b[1;32m    136\u001b[0m \u001b[0;34m\u001b[0m\u001b[0m\n\u001b[1;32m    137\u001b[0m \u001b[0;31m#hot_windows = search_windows(image, windows, clf, X_scaler)\u001b[0m\u001b[0;34m\u001b[0m\u001b[0;34m\u001b[0m\u001b[0m\n\u001b[0;32m--> 138\u001b[0;31m \u001b[0mimg_features\u001b[0m \u001b[0;34m=\u001b[0m \u001b[0msearch_windows\u001b[0m\u001b[0;34m(\u001b[0m\u001b[0mimage\u001b[0m\u001b[0;34m,\u001b[0m \u001b[0mwindows\u001b[0m\u001b[0;34m,\u001b[0m \u001b[0mclf\u001b[0m\u001b[0;34m,\u001b[0m \u001b[0mX_scaler\u001b[0m\u001b[0;34m)\u001b[0m\u001b[0;34m\u001b[0m\u001b[0m\n\u001b[0m\u001b[1;32m    139\u001b[0m \u001b[0;34m\u001b[0m\u001b[0m\n\u001b[1;32m    140\u001b[0m \u001b[0;31m#window_img = draw_boxes(draw_image, hot_windows, color=(0, 0, 255), thick=6)\u001b[0m\u001b[0;34m\u001b[0m\u001b[0;34m\u001b[0m\u001b[0m\n",
      "\u001b[0;32m<ipython-input-77-2793cf7126da>\u001b[0m in \u001b[0;36msearch_windows\u001b[0;34m(img, windows, clf, scaler, hog_channel)\u001b[0m\n\u001b[1;32m     99\u001b[0m \u001b[0;34m\u001b[0m\u001b[0m\n\u001b[1;32m    100\u001b[0m         \u001b[0;31m#6) Predict using your classifier\u001b[0m\u001b[0;34m\u001b[0m\u001b[0;34m\u001b[0m\u001b[0m\n\u001b[0;32m--> 101\u001b[0;31m         \u001b[0mprediction\u001b[0m \u001b[0;34m=\u001b[0m \u001b[0mclf\u001b[0m\u001b[0;34m.\u001b[0m\u001b[0mpredict\u001b[0m\u001b[0;34m(\u001b[0m\u001b[0mtest_features\u001b[0m\u001b[0;34m)\u001b[0m\u001b[0;34m\u001b[0m\u001b[0m\n\u001b[0m\u001b[1;32m    102\u001b[0m         \u001b[0;31m#7) If positive (prediction == 1) then save the window\u001b[0m\u001b[0;34m\u001b[0m\u001b[0;34m\u001b[0m\u001b[0m\n\u001b[1;32m    103\u001b[0m         \u001b[0;32mif\u001b[0m \u001b[0mprediction\u001b[0m \u001b[0;34m==\u001b[0m \u001b[0;36m1\u001b[0m\u001b[0;34m:\u001b[0m\u001b[0;34m\u001b[0m\u001b[0m\n",
      "\u001b[0;31mNameError\u001b[0m: name 'test_features' is not defined"
     ]
    }
   ],
   "source": [
    "# Have this function call bin_spatial() and color_hist()\n",
    "def single_img_features(feature_image, orient=9, \n",
    "                        pix_per_cell=8, cell_per_block=2, hog_channel=0):\n",
    "    # Create a list to append feature vectors to\n",
    "    features = []\n",
    "   \n",
    "    bin_features = bin_spatial(feature_image)\n",
    "    color_features = color_hist(feature_image)\n",
    "\n",
    "\n",
    "    # Call get_hog_features() with vis=False, feature_vec=True\n",
    "    hog_features = []\n",
    "    if hog_channel == 'ALL':            \n",
    "        for channel in range(feature_image.shape[2]):\n",
    "            hog_features.append(get_hog_features(feature_image[:,:,channel], \n",
    "                                orient, pix_per_cell, cell_per_block, \n",
    "                                vis=False, feature_vec=True))\n",
    "        hog_features = np.ravel(hog_features)        \n",
    "    else:\n",
    "        hog_features = get_hog_features(feature_image[:,:,hog_channel], orient, \n",
    "                    pix_per_cell, cell_per_block, vis=False, feature_vec=True)\n",
    "          \n",
    "    # Return list of feature vectors\n",
    "    return  np.concatenate((bin_features,color_features,hog_features))\n",
    "\n",
    "\n",
    "# Define a function that takes an image,\n",
    "# start and stop positions in both x and y, \n",
    "# window size (x and y dimensions),  \n",
    "# and overlap fraction (for both x and y)\n",
    "def slide_window(img, x_start_stop=[None, None], y_start_stop=[None, None], \n",
    "                    xy_window=(64, 64), xy_overlap=(0.5, 0.5)):\n",
    "    # If x and/or y start/stop positions not defined, set to image size\n",
    "    if x_start_stop[0] == None:\n",
    "        x_start_stop[0] = 0\n",
    "    if x_start_stop[1] == None:\n",
    "        x_start_stop[1] = img.shape[1]\n",
    "    if y_start_stop[0] == None:\n",
    "        y_start_stop[0] = 0\n",
    "    if y_start_stop[1] == None:\n",
    "        y_start_stop[1] = img.shape[0]\n",
    "    # Compute the span of the region to be searched    \n",
    "    xspan = x_start_stop[1] - x_start_stop[0]\n",
    "    yspan = y_start_stop[1] - y_start_stop[0]\n",
    "    # Compute the number of pixels per step in x/y\n",
    "    nx_pix_per_step = np.int(xy_window[0]*(1 - xy_overlap[0]))\n",
    "    ny_pix_per_step = np.int(xy_window[1]*(1 - xy_overlap[1]))\n",
    "    # Compute the number of windows in x/y\n",
    "    nx_buffer = np.int(xy_window[0]*(xy_overlap[0]))\n",
    "    ny_buffer = np.int(xy_window[1]*(xy_overlap[1]))\n",
    "    nx_windows = np.int((xspan-nx_buffer)/nx_pix_per_step) \n",
    "    ny_windows = np.int((yspan-ny_buffer)/ny_pix_per_step) \n",
    "    # Initialize a list to append window positions to\n",
    "    window_list = []\n",
    "    # Loop through finding x and y window positions\n",
    "    # Note: you could vectorize this step, but in practice\n",
    "    # you'll be considering windows one by one with your\n",
    "    # classifier, so looping makes sense\n",
    "    for ys in range(ny_windows):\n",
    "        for xs in range(nx_windows):\n",
    "            # Calculate window position\n",
    "            startx = xs*nx_pix_per_step + x_start_stop[0]\n",
    "            endx = startx + xy_window[0]\n",
    "            starty = ys*ny_pix_per_step + y_start_stop[0]\n",
    "            endy = starty + xy_window[1]\n",
    "            \n",
    "            # Append window position to list\n",
    "            window_list.append(((startx, starty), (endx, endy)))\n",
    "    # Return the list of windows\n",
    "    return window_list\n",
    "\n",
    "# Define a function to draw bounding boxes\n",
    "def draw_boxes(img, bboxes, color=(0, 0, 255), thick=6):\n",
    "    # Make a copy of the image\n",
    "    imcopy = np.copy(img)\n",
    "    # Iterate through the bounding boxes\n",
    "    for bbox in bboxes:\n",
    "        # Draw a rectangle given bbox coordinates\n",
    "        cv2.rectangle(imcopy, bbox[0], bbox[1], color, thick)\n",
    "    # Return the image copy with boxes drawn\n",
    "    return imcopy\n",
    "\n",
    "\n",
    "# Define a function you will pass an image \n",
    "# and the list of windows to be searched (output of slide_windows())\n",
    "def search_windows(img, windows, clf, scaler, hog_channel='ALL'):\n",
    "\n",
    "    #1) Create an empty list to receive positive detection windows\n",
    "    on_windows = []\n",
    "    #2) Iterate over all windows in the list\n",
    "    img_features=[]\n",
    "    for window in windows:\n",
    "        #3) Extract the test window from original image\n",
    "        test_img = cv2.resize(img[window[0][1]:window[1][1], window[0][0]:window[1][0]], (64, 64)) \n",
    "        #4) Extract features for that window using single_img_features()\n",
    "        features = single_img_features(test_img,hog_channel=hog_channel)\n",
    "        #5) Scale extracted features to be fed to classifier\n",
    "        #test_features = scaler.transform(np.array(features).reshape(1, -1))\n",
    "\n",
    "        #6) Predict using your classifier\n",
    "        #prediction = clf.predict(test_features)\n",
    "        #7) If positive (prediction == 1) then save the window\n",
    "        if prediction == 1:\n",
    "            #on_windows.append(window)\n",
    "            img_features.append(features)\n",
    "    #8) Return windows for positive detections\n",
    "    #return on_windows\n",
    "    return img_features\n",
    "    \n",
    "    \n",
    "\n",
    "### TODO: Tweak these parameters and see how the results change.\n",
    "color_space = 'RGB' # Can be RGB, HSV, LUV, HLS, YUV, YCrCb\n",
    "orient = 9  # HOG orientations\n",
    "pix_per_cell = 8 # HOG pixels per cell\n",
    "cell_per_block = 2 # HOG cells per block\n",
    "hog_channel = 0 # Can be 0, 1, 2, or \"ALL\"\n",
    "spatial_size = (16, 16) # Spatial binning dimensions\n",
    "hist_bins = 16    # Number of histogram bins\n",
    "spatial_feat = True # Spatial features on or off\n",
    "hist_feat = True # Histogram features on or off\n",
    "hog_feat = True # HOG features on or off\n",
    "y_start_stop = [None, None] # Min and max in y to search in slide_window()\n",
    "\n",
    "\n",
    "image = cv2.imread('object-detection-crowdai/1479498389464606786.jpg')\n",
    "draw_image = np.copy(image)\n",
    "\n",
    "# Uncomment the following line if you extracted training\n",
    "# data from .png images (scaled 0 to 1 by mpimg) and the\n",
    "# image you are searching is a .jpg (scaled 0 to 255)\n",
    "#image = image.astype(np.float32)/255\n",
    "\n",
    "windows = slide_window(image, x_start_stop=[None, None], y_start_stop=y_start_stop, \n",
    "                    xy_window=(400, 400), xy_overlap=(0.5, 0.5))\n",
    "\n",
    "#hot_windows = search_windows(image, windows, clf, X_scaler)   \n",
    "img_features = search_windows(image, windows, clf, X_scaler)   \n",
    "\n",
    "#window_img = draw_boxes(draw_image, hot_windows, color=(0, 0, 255), thick=6)                    \n",
    "\n",
    "#plt.imshow(window_img)\n",
    "print(clf.predict(img_features))"
   ]
  },
  {
   "cell_type": "code",
   "execution_count": null,
   "metadata": {
    "collapsed": true
   },
   "outputs": [],
   "source": []
  }
 ],
 "metadata": {
  "anaconda-cloud": {},
  "kernelspec": {
   "display_name": "Python [default]",
   "language": "python",
   "name": "python3"
  },
  "language_info": {
   "codemirror_mode": {
    "name": "ipython",
    "version": 3
   },
   "file_extension": ".py",
   "mimetype": "text/x-python",
   "name": "python",
   "nbconvert_exporter": "python",
   "pygments_lexer": "ipython3",
   "version": "3.5.2"
  }
 },
 "nbformat": 4,
 "nbformat_minor": 1
}
